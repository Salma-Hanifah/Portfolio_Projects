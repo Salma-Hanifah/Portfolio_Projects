{
 "cells": [
  {
   "cell_type": "code",
   "execution_count": 1,
   "id": "7fd9eafb-5410-46db-956c-d2c224b3937e",
   "metadata": {},
   "outputs": [],
   "source": [
    "from pydrill.client import PyDrill\n",
    "import os\n",
    "import json\n",
    "\n",
    "from pprint import pprint\n",
    "from dotenv import load_dotenv"
   ]
  },
  {
   "cell_type": "code",
   "execution_count": 2,
   "id": "ee38bde0-6eb2-4dfc-9e69-fa26ccff61e5",
   "metadata": {},
   "outputs": [],
   "source": [
    "def connect(drill_host: str = os.getenv('DRILL_HOST')):\n",
    "    auth_string = os.getenv('DRILL_USERNAME') + \":\" + os.getenv('DRILL_PASSWORD')\n",
    "    drill = PyDrill(host=drill_host, port=os.getenv('DRILL_PORT'), use_ssl=True, verify_certs=True, auth=auth_string)\n",
    "\n",
    "    if drill.is_active():\n",
    "        print(f'connected to: {drill_host} as user {os.getenv(\"DRILL_USERNAME\")}')\n",
    "        return drill\n",
    "\n",
    "    print(\"Did you place the .env file in the current folder? double-check file contents.\")\n",
    "    return None"
   ]
  },
  {
   "cell_type": "code",
   "execution_count": 3,
   "id": "47e8f206-9b64-402e-ab89-e26c5c837f7f",
   "metadata": {},
   "outputs": [
    {
     "data": {
      "text/plain": [
       "True"
      ]
     },
     "execution_count": 3,
     "metadata": {},
     "output_type": "execute_result"
    }
   ],
   "source": [
    "load_dotenv()\n",
    "drill = connect(os.getenv('DRILL_HOSTNAME',''))"
   ]
  },
  {
   "cell_type": "code",
   "execution_count": 5,
   "id": "bea0e7d2-4665-48b4-9f5b-568792fd1a5b",
   "metadata": {},
   "outputs": [],
   "source": [
    "result = drill.query('''SELECT * FROM sys.version''')"
   ]
  },
  {
   "cell_type": "code",
   "execution_count": 6,
   "id": "dc54c5ff-0ae4-4d31-8781-15667f5e48ec",
   "metadata": {},
   "outputs": [
    {
     "name": "stdout",
     "output_type": "stream",
     "text": [
      "{'columns': ['version',\n",
      "             'commit_id',\n",
      "             'commit_message',\n",
      "             'commit_time',\n",
      "             'build_email',\n",
      "             'build_time'],\n",
      " 'data': {'attemptedAutoLimit': 0,\n",
      "          'columns': ['version',\n",
      "                      'commit_id',\n",
      "                      'commit_message',\n",
      "                      'commit_time',\n",
      "                      'build_email',\n",
      "                      'build_time'],\n",
      "          'metadata': ['VARCHAR',\n",
      "                       'VARCHAR',\n",
      "                       'VARCHAR',\n",
      "                       'VARCHAR',\n",
      "                       'VARCHAR',\n",
      "                       'VARCHAR'],\n",
      "          'queryId': '1d71654a-8d6f-48f4-755f-257736d17108',\n",
      "          'queryState': 'COMPLETED',\n",
      "          'rows': [{'build_email': '',\n",
      "                    'build_time': '22.02.2022 @ 20:20:27 SAST',\n",
      "                    'commit_id': 'd19878973ef6723250d231258f470340863ddc23',\n",
      "                    'commit_message': '[maven-release-plugin] prepare release '\n",
      "                                      'drill-1.20.0',\n",
      "                    'commit_time': '22.02.2022 @ 19:56:14 SAST',\n",
      "                    'version': '1.20.0'}]},\n",
      " 'duration': 0.052805185317993164,\n",
      " 'response': <Response [200]>,\n",
      " 'rows': [{'build_email': '',\n",
      "           'build_time': '22.02.2022 @ 20:20:27 SAST',\n",
      "           'commit_id': 'd19878973ef6723250d231258f470340863ddc23',\n",
      "           'commit_message': '[maven-release-plugin] prepare release '\n",
      "                             'drill-1.20.0',\n",
      "           'commit_time': '22.02.2022 @ 19:56:14 SAST',\n",
      "           'version': '1.20.0'}]}\n"
     ]
    }
   ],
   "source": [
    "pprint(result.__dict__)"
   ]
  },
  {
   "cell_type": "code",
   "execution_count": 7,
   "id": "52e753d0-2526-4faf-94f6-91d72b1eabf3",
   "metadata": {},
   "outputs": [],
   "source": [
    "#wie viele verschiedene Sensoren (angegeben im Feld serial_number) enthält die Datenmenge?\n",
    "distinctSensor = drill.query('''SELECT COUNT(DISTINCT COLUMNS[1]) as Sensoren FROM dfs.data.`co2data.tsv` WHERE NOT columns[1] = 'serial_number' ''')"
   ]
  },
  {
   "cell_type": "code",
   "execution_count": 8,
   "id": "78609fcf-2c9f-455d-bd9a-21aecbe132f3",
   "metadata": {},
   "outputs": [
    {
     "name": "stdout",
     "output_type": "stream",
     "text": [
      "{'Sensoren': 22}\n"
     ]
    }
   ],
   "source": [
    "for row in distinctSensor:\n",
    "    print(row)"
   ]
  },
  {
   "cell_type": "code",
   "execution_count": 9,
   "id": "236bf5bb-41ab-47cf-8ef1-38e4a7d9a339",
   "metadata": {},
   "outputs": [],
   "source": [
    "#wieviele Datenpunkte je Sensor liegen vor?\n",
    "datenPunkt = drill.query('''SELECT COLUMNS[1] as serial_number, COUNT(*) as anzahl FROM dfs.data.`co2data.tsv` WHERE NOT columns[1] = 'serial_number' GROUP BY columns[1]''')"
   ]
  },
  {
   "cell_type": "code",
   "execution_count": 10,
   "id": "b4b93c24-72dc-41e8-a776-6ba90b980d25",
   "metadata": {},
   "outputs": [
    {
     "name": "stdout",
     "output_type": "stream",
     "text": [
      "{'serial_number': 's_8caab57cc961_', 'anzahl': 7}\n",
      "{'serial_number': 's_3c6105d3abae_', 'anzahl': 2}\n",
      "{'serial_number': 's_8caab57cc961_284337', 'anzahl': 1131861}\n",
      "{'serial_number': 's_e8db84c5f33d_', 'anzahl': 13}\n",
      "{'serial_number': 's_8caab57a6dd9_', 'anzahl': 6}\n",
      "{'serial_number': 's_d8bfc0147061_283903', 'anzahl': 578456}\n",
      "{'serial_number': 's_8caab57c3e19_282028', 'anzahl': 1561045}\n",
      "{'serial_number': 's_e8db84c5f33d_281913', 'anzahl': 2269085}\n",
      "{'serial_number': 's_e8db84c5f771_300390', 'anzahl': 1665528}\n",
      "{'serial_number': 's_e8db84c5f33d_0xdeadbeef', 'anzahl': 1515}\n",
      "{'serial_number': 's_3c6105d3abae_299589', 'anzahl': 1533917}\n",
      "{'serial_number': 's_8caab57a6dd9_288065', 'anzahl': 2781611}\n",
      "{'serial_number': 's_8caab57c3e19_', 'anzahl': 1}\n",
      "{'serial_number': 's_d8bfc014724e_262793', 'anzahl': 2103522}\n",
      "{'serial_number': 's_8caab57a6dd9', 'anzahl': 11}\n",
      "{'serial_number': 's_e8db84c5f771_', 'anzahl': 2}\n",
      "{'serial_number': 's_8caab57a6dd9_0xdeadbeef', 'anzahl': 49}\n",
      "{'serial_number': 's_10521c01cf19_', 'anzahl': 2}\n",
      "{'serial_number': 's_10521c0202ab_284839', 'anzahl': 2064}\n",
      "{'serial_number': 's_e8db84c5f33d', 'anzahl': 83}\n",
      "{'serial_number': 's_10521c01cf19_262520', 'anzahl': 385103}\n",
      "{'serial_number': 's_d8bfc0147061_', 'anzahl': 1}\n"
     ]
    }
   ],
   "source": [
    "for row in datenPunkt:\n",
    "    print(row)"
   ]
  },
  {
   "cell_type": "code",
   "execution_count": 11,
   "id": "706a1888-6beb-4a1e-8fa9-68a35ab4669b",
   "metadata": {},
   "outputs": [],
   "source": [
    "#was ist der höchste , und was der niedrigste Temperaturwert?\n",
    "temperaturWert =  drill.query('''SELECT \n",
    "MAX(CAST(CASE isnumeric(COLUMNS[4]) WHEN 0 THEN -999 ELSE CAST(COLUMNS[4] as DOUBLE) END AS DOUBLE)) as max_Temp, \n",
    "MIN(CAST(CASE isnumeric(COLUMNS[4]) WHEN 0 THEN -999 ELSE CAST(COLUMNS[4] as DOUBLE) END AS DOUBLE)) as min_Temp \n",
    "FROM dfs.data.`co2data.tsv`  WHERE (NOT columns[4] = 'temperature_celsius') \n",
    "AND CAST(CASE isnumeric(COLUMNS[4]) WHEN 0 THEN -999 ELSE CAST(COLUMNS[4] as DOUBLE) END AS DOUBLE) <> -999.0 ''',timeout = 30)"
   ]
  },
  {
   "cell_type": "code",
   "execution_count": 12,
   "id": "90288081-ca70-4d23-9719-481b9adcc82b",
   "metadata": {},
   "outputs": [
    {
     "name": "stdout",
     "output_type": "stream",
     "text": [
      "{'max_Temp': 36.0, 'min_Temp': -1.0}\n"
     ]
    }
   ],
   "source": [
    "for row in temperaturWert:\n",
    "    print(row)"
   ]
  },
  {
   "cell_type": "code",
   "execution_count": 13,
   "id": "0e8ab62b-bda3-4307-bb1a-8c11d03b2b12",
   "metadata": {},
   "outputs": [],
   "source": [
    "#Was ist der durchschnittliche Co2-Wert (co2_ppm) je Sensor?\n",
    "durchschnittlicheCo2-Wert =  drill.query('''SELECT\n",
    "columns[1] as serial_number,\n",
    "AVG(CAST(CASE isnumeric(COLUMNS[3]) WHEN 0 THEN -999 ELSE CAST(COLUMNS[3] as INT) END AS INT)) as co2_ppm_avg \n",
    "FROM dfs.data.`co2data.tsv`  \n",
    "WHERE (NOT columns[3] = 'co2_ppm') \n",
    "AND CAST(CASE isnumeric(COLUMNS[3]) WHEN 0 THEN -999 ELSE CAST(COLUMNS[3] as INT) END AS INT) <> -999\n",
    "GROUP BY columns[1]''',timeout = 30)"
   ]
  },
  {
   "cell_type": "code",
   "execution_count": 14,
   "id": "b938759d-303e-4fb2-b758-a3409d23dce2",
   "metadata": {},
   "outputs": [
    {
     "name": "stdout",
     "output_type": "stream",
     "text": [
      "{'serial_number': 's_8caab57cc961_284337', 'co2_ppm_avg': 470.7930161035675}\n",
      "{'serial_number': 's_e8db84c5f33d_', 'co2_ppm_avg': 488.7692307692308}\n",
      "{'serial_number': 's_8caab57cc961_', 'co2_ppm_avg': 429.2857142857143}\n",
      "{'serial_number': 's_3c6105d3abae_', 'co2_ppm_avg': 832.0}\n",
      "{'serial_number': 's_10521c0202ab_284839', 'co2_ppm_avg': 436.76356589147287}\n",
      "{'serial_number': 's_e8db84c5f33d', 'co2_ppm_avg': 1403.2289156626507}\n",
      "{'serial_number': 's_d8bfc0147061_283903', 'co2_ppm_avg': 628.6339168406931}\n",
      "{'serial_number': 's_8caab57a6dd9_', 'co2_ppm_avg': 983.6666666666666}\n",
      "{'serial_number': 's_d8bfc014724e_262793', 'co2_ppm_avg': 770.4554948583827}\n",
      "{'serial_number': 's_8caab57a6dd9_0xdeadbeef', 'co2_ppm_avg': -1.0}\n",
      "{'serial_number': 's_10521c01cf19_', 'co2_ppm_avg': 467.5}\n",
      "{'serial_number': 's_e8db84c5f771_300390', 'co2_ppm_avg': 954.0877634759553}\n",
      "{'serial_number': 's_e8db84c5f33d_0xdeadbeef', 'co2_ppm_avg': -1.0}\n",
      "{'serial_number': 's_e8db84c5f771_', 'co2_ppm_avg': 863.0}\n",
      "{'serial_number': 's_3c6105d3abae_299589', 'co2_ppm_avg': 833.9766714887442}\n",
      "{'serial_number': 's_8caab57c3e19_', 'co2_ppm_avg': 620.0}\n",
      "{'serial_number': 's_8caab57a6dd9_288065', 'co2_ppm_avg': 654.238815923578}\n",
      "{'serial_number': 's_10521c01cf19_262520', 'co2_ppm_avg': 500.67781606479303}\n",
      "{'serial_number': 's_8caab57c3e19_282028', 'co2_ppm_avg': 876.9315842912921}\n",
      "{'serial_number': 's_e8db84c5f33d_281913', 'co2_ppm_avg': 531.2104615783285}\n",
      "{'serial_number': 's_d8bfc0147061_', 'co2_ppm_avg': 722.0}\n"
     ]
    }
   ],
   "source": [
    "for row in durchschnittlicheCo2-Wert:\n",
    "    print(row)"
   ]
  },
  {
   "cell_type": "code",
   "execution_count": 15,
   "id": "cd60dd2f-970f-4c92-8076-522ad00ce0f2",
   "metadata": {},
   "outputs": [],
   "source": [
    "#Wieviele Datenpunkte mit fehlenden Co2-Werte liegen vor?\n",
    "fehlendenCo2 =  drill.query('''SELECT \n",
    "Count(CAST(CASE isnumeric(COLUMNS[3]) WHEN 0 THEN -999 ELSE CAST(COLUMNS[3] as INT) END AS INT)) as co2_ppm_missing \n",
    "FROM dfs.data.`co2data.tsv`  \n",
    "WHERE \n",
    "    (NOT columns[3] = 'co2_ppm')\n",
    "    AND CAST(CASE isnumeric(COLUMNS[3]) WHEN 0 THEN -999 ELSE CAST(COLUMNS[3] as INT) END AS INT) = -999 ''',timeout = 30)"
   ]
  },
  {
   "cell_type": "code",
   "execution_count": 16,
   "id": "d401dedd-2d0c-4690-b34b-2717d50c166a",
   "metadata": {},
   "outputs": [
    {
     "name": "stdout",
     "output_type": "stream",
     "text": [
      "{'co2_ppm_missing': 19}\n"
     ]
    }
   ],
   "source": [
    "for row in fehlendenCo2:\n",
    "    print(row)"
   ]
  },
  {
   "cell_type": "code",
   "execution_count": 17,
   "id": "d8ef66b8-e141-44d4-89c3-33642172e85f",
   "metadata": {},
   "outputs": [],
   "source": [
    "#Sowohl relative_humidity_percent, temperature_celcius als auch co2_ppm sollen als auf zwei Nachkommastellen gerundete Fließkommazahl verfügbar sein.\n",
    "co2_ppm_to_decimal = '''CAST(CASE isnumeric(COLUMNS[3]) WHEN 0 THEN -999.00 ELSE CAST(COLUMNS[3] as DECIMAL(28,2)) END AS  DECIMAL(28,2)) as co2_ppm'''\n",
    "temperature_celcius_to_decimal = '''CAST(CASE isnumeric(COLUMNS[4]) WHEN 0 THEN -999.00 ELSE CAST(COLUMNS[4] as DECIMAL(28,2)) END AS  DECIMAL(28,2)) as temperature_celcius'''\n",
    "relative_humidity_percent_to_decimal = '''CAST(CASE isnumeric(COLUMNS[5]) WHEN 0 THEN -999.00 ELSE CAST(COLUMNS[5] as DECIMAL(28,2)) END AS  DECIMAL(28,2)) as relative_humidity_percent'''\n",
    "\n",
    "query_result = drill.query(f'''SELECT {co2_ppm_to_decimal},{temperature_celcius_to_decimal},{relative_humidity_percent_to_decimal} FROM dfs.data.`co2data.tsv`  WHERE (NOT columns[3] = 'co2_ppm') AND NOT columns[4] = 'temperature_celsius' AND NOT columns[5] = 'relative_humidity_percent' limit 20''',timeout = 1000)"
   ]
  },
  {
   "cell_type": "code",
   "execution_count": 18,
   "id": "fbae54e7-4ad6-41b7-acdd-006b0682c622",
   "metadata": {
    "tags": []
   },
   "outputs": [
    {
     "name": "stdout",
     "output_type": "stream",
     "text": [
      "{'columns': ['co2_ppm', 'temperature_celcius', 'relative_humidity_percent'],\n",
      " 'data': {'attemptedAutoLimit': 0,\n",
      "          'columns': ['co2_ppm',\n",
      "                      'temperature_celcius',\n",
      "                      'relative_humidity_percent'],\n",
      "          'metadata': ['VARDECIMAL(28, 2)',\n",
      "                       'VARDECIMAL(28, 2)',\n",
      "                       'VARDECIMAL(28, 2)'],\n",
      "          'queryId': '1d716509-7ed8-c609-93e5-7d7f5992a084',\n",
      "          'queryState': 'COMPLETED',\n",
      "          'rows': [{'co2_ppm': 420.0,\n",
      "                    'relative_humidity_percent': 36.0,\n",
      "                    'temperature_celcius': 23.0},\n",
      "                   {'co2_ppm': 421.0,\n",
      "                    'relative_humidity_percent': 32.0,\n",
      "                    'temperature_celcius': 24.0},\n",
      "                   {'co2_ppm': 420.0,\n",
      "                    'relative_humidity_percent': 32.0,\n",
      "                    'temperature_celcius': 24.0},\n",
      "                   {'co2_ppm': 651.0,\n",
      "                    'relative_humidity_percent': 44.0,\n",
      "                    'temperature_celcius': 20.0},\n",
      "                   {'co2_ppm': 422.0,\n",
      "                    'relative_humidity_percent': 36.0,\n",
      "                    'temperature_celcius': 23.0},\n",
      "                   {'co2_ppm': 422.0,\n",
      "                    'relative_humidity_percent': 36.0,\n",
      "                    'temperature_celcius': 23.0},\n",
      "                   {'co2_ppm': 423.0,\n",
      "                    'relative_humidity_percent': 36.0,\n",
      "                    'temperature_celcius': 23.0},\n",
      "                   {'co2_ppm': 436.0,\n",
      "                    'relative_humidity_percent': 41.0,\n",
      "                    'temperature_celcius': 22.0},\n",
      "                   {'co2_ppm': 653.0,\n",
      "                    'relative_humidity_percent': 44.0,\n",
      "                    'temperature_celcius': 20.0},\n",
      "                   {'co2_ppm': 653.0,\n",
      "                    'relative_humidity_percent': 44.0,\n",
      "                    'temperature_celcius': 20.0},\n",
      "                   {'co2_ppm': 652.0,\n",
      "                    'relative_humidity_percent': 44.0,\n",
      "                    'temperature_celcius': 20.0},\n",
      "                   {'co2_ppm': 433.0,\n",
      "                    'relative_humidity_percent': 41.0,\n",
      "                    'temperature_celcius': 22.0},\n",
      "                   {'co2_ppm': 771.0,\n",
      "                    'relative_humidity_percent': 49.0,\n",
      "                    'temperature_celcius': 20.0},\n",
      "                   {'co2_ppm': 772.0,\n",
      "                    'relative_humidity_percent': 49.0,\n",
      "                    'temperature_celcius': 20.0},\n",
      "                   {'co2_ppm': 772.0,\n",
      "                    'relative_humidity_percent': 49.0,\n",
      "                    'temperature_celcius': 20.0},\n",
      "                   {'co2_ppm': 425.0,\n",
      "                    'relative_humidity_percent': 36.0,\n",
      "                    'temperature_celcius': 23.0},\n",
      "                   {'co2_ppm': 431.0,\n",
      "                    'relative_humidity_percent': 41.0,\n",
      "                    'temperature_celcius': 22.0},\n",
      "                   {'co2_ppm': 431.0,\n",
      "                    'relative_humidity_percent': 41.0,\n",
      "                    'temperature_celcius': 22.0},\n",
      "                   {'co2_ppm': 431.0,\n",
      "                    'relative_humidity_percent': 41.0,\n",
      "                    'temperature_celcius': 22.0},\n",
      "                   {'co2_ppm': 430.0,\n",
      "                    'relative_humidity_percent': 41.0,\n",
      "                    'temperature_celcius': 22.0}]},\n",
      " 'duration': 0.10138392448425293,\n",
      " 'response': <Response [200]>,\n",
      " 'rows': [{'co2_ppm': 420.0,\n",
      "           'relative_humidity_percent': 36.0,\n",
      "           'temperature_celcius': 23.0},\n",
      "          {'co2_ppm': 421.0,\n",
      "           'relative_humidity_percent': 32.0,\n",
      "           'temperature_celcius': 24.0},\n",
      "          {'co2_ppm': 420.0,\n",
      "           'relative_humidity_percent': 32.0,\n",
      "           'temperature_celcius': 24.0},\n",
      "          {'co2_ppm': 651.0,\n",
      "           'relative_humidity_percent': 44.0,\n",
      "           'temperature_celcius': 20.0},\n",
      "          {'co2_ppm': 422.0,\n",
      "           'relative_humidity_percent': 36.0,\n",
      "           'temperature_celcius': 23.0},\n",
      "          {'co2_ppm': 422.0,\n",
      "           'relative_humidity_percent': 36.0,\n",
      "           'temperature_celcius': 23.0},\n",
      "          {'co2_ppm': 423.0,\n",
      "           'relative_humidity_percent': 36.0,\n",
      "           'temperature_celcius': 23.0},\n",
      "          {'co2_ppm': 436.0,\n",
      "           'relative_humidity_percent': 41.0,\n",
      "           'temperature_celcius': 22.0},\n",
      "          {'co2_ppm': 653.0,\n",
      "           'relative_humidity_percent': 44.0,\n",
      "           'temperature_celcius': 20.0},\n",
      "          {'co2_ppm': 653.0,\n",
      "           'relative_humidity_percent': 44.0,\n",
      "           'temperature_celcius': 20.0},\n",
      "          {'co2_ppm': 652.0,\n",
      "           'relative_humidity_percent': 44.0,\n",
      "           'temperature_celcius': 20.0},\n",
      "          {'co2_ppm': 433.0,\n",
      "           'relative_humidity_percent': 41.0,\n",
      "           'temperature_celcius': 22.0},\n",
      "          {'co2_ppm': 771.0,\n",
      "           'relative_humidity_percent': 49.0,\n",
      "           'temperature_celcius': 20.0},\n",
      "          {'co2_ppm': 772.0,\n",
      "           'relative_humidity_percent': 49.0,\n",
      "           'temperature_celcius': 20.0},\n",
      "          {'co2_ppm': 772.0,\n",
      "           'relative_humidity_percent': 49.0,\n",
      "           'temperature_celcius': 20.0},\n",
      "          {'co2_ppm': 425.0,\n",
      "           'relative_humidity_percent': 36.0,\n",
      "           'temperature_celcius': 23.0},\n",
      "          {'co2_ppm': 431.0,\n",
      "           'relative_humidity_percent': 41.0,\n",
      "           'temperature_celcius': 22.0},\n",
      "          {'co2_ppm': 431.0,\n",
      "           'relative_humidity_percent': 41.0,\n",
      "           'temperature_celcius': 22.0},\n",
      "          {'co2_ppm': 431.0,\n",
      "           'relative_humidity_percent': 41.0,\n",
      "           'temperature_celcius': 22.0},\n",
      "          {'co2_ppm': 430.0,\n",
      "           'relative_humidity_percent': 41.0,\n",
      "           'temperature_celcius': 22.0}]}\n"
     ]
    }
   ],
   "source": [
    "pprint(query_result.__dict__)"
   ]
  }
 ],
 "metadata": {
  "kernelspec": {
   "display_name": "Python 3 (ipykernel)",
   "language": "python",
   "name": "python3"
  },
  "language_info": {
   "codemirror_mode": {
    "name": "ipython",
    "version": 3
   },
   "file_extension": ".py",
   "mimetype": "text/x-python",
   "name": "python",
   "nbconvert_exporter": "python",
   "pygments_lexer": "ipython3",
   "version": "3.9.7"
  }
 },
 "nbformat": 4,
 "nbformat_minor": 5
}
