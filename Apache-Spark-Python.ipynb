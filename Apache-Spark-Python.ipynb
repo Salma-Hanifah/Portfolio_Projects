{
 "cells": [
  {
   "cell_type": "code",
   "execution_count": 1,
   "id": "9178bff3-f8a9-4cf4-91d4-c27be98bf0a3",
   "metadata": {},
   "outputs": [],
   "source": [
    "import os\n",
    "import findspark\n",
    "\n",
    "findspark.init()\n",
    "\n",
    "from pyspark.sql import SparkSession\n",
    "\n",
    "os.environ['PYSPARK_PYTHON'] = '/usr/bin/python3'\n",
    "os.environ['PYSPARK_DRIVER_PYTHON'] = 'ipython3'\n",
    "os.environ['PYSPARK_DRIVER_PYTHON_OPTS'] = 'notebook'"
   ]
  },
  {
   "cell_type": "code",
   "execution_count": 2,
   "id": "a65f2c1d-4b23-4baa-9f5a-44264465227d",
   "metadata": {},
   "outputs": [
    {
     "name": "stdout",
     "output_type": "stream",
     "text": [
      "No context found: name 'sc1' is not defined\n"
     ]
    }
   ],
   "source": [
    "def stopCtx():\n",
    "    try:\n",
    "        sc1.stop()\n",
    "        print(\"Spark Context stopped\")\n",
    "    except Exception as ex1:\n",
    "        print('No context found: %s' % str(ex1))\n",
    "stopCtx()"
   ]
  },
  {
   "cell_type": "code",
   "execution_count": 3,
   "id": "32ef1812-a039-4e69-bf52-4186f36ba604",
   "metadata": {
    "scrolled": true
   },
   "outputs": [
    {
     "name": "stderr",
     "output_type": "stream",
     "text": [
      "Using Spark's default log4j profile: org/apache/spark/log4j-defaults.properties\n",
      "Setting default log level to \"WARN\".\n",
      "To adjust logging level use sc.setLogLevel(newLevel). For SparkR, use setLogLevel(newLevel).\n",
      "22/06/22 21:43:15 WARN NativeCodeLoader: Unable to load native-hadoop library for your platform... using builtin-java classes where applicable\n"
     ]
    },
    {
     "name": "stdout",
     "output_type": "stream",
     "text": [
      "<pyspark.sql.session.SparkSession object at 0x7fc790dd03d0>\n"
     ]
    }
   ],
   "source": [
    "spark1 = SparkSession.builder \\\n",
    "    .config(\"spark.app.name\", os.environ['JUPYTERHUB_CLIENT_ID'])\\\n",
    "    .config(\"spark.executor.instances\", \"1\")\\\n",
    "    .getOrCreate()\n",
    "\n",
    "sc1 = spark1.sparkContext\n",
    "\n",
    "print(spark1)\n"
   ]
  },
  {
   "cell_type": "code",
   "execution_count": 4,
   "id": "23415e3a-213f-4161-837b-6cdad426a467",
   "metadata": {},
   "outputs": [
    {
     "name": "stderr",
     "output_type": "stream",
     "text": [
      "                                                                                \r"
     ]
    },
    {
     "name": "stdout",
     "output_type": "stream",
     "text": [
      "root\n",
      " |-- measurement_count: string (nullable = true)\n",
      " |-- serial_number: string (nullable = true)\n",
      " |-- version: string (nullable = true)\n",
      " |-- co2_ppm: string (nullable = true)\n",
      " |-- temperature_celsius: string (nullable = true)\n",
      " |-- relative_humidity_percent: string (nullable = true)\n",
      " |-- timestamp: string (nullable = true)\n",
      "\n"
     ]
    }
   ],
   "source": [
    "#load the data\n",
    "df = spark1.read.csv(\"hdfs://namenode:19000/data.tsv\", sep='\\t', header=True)\n",
    "df.printSchema()"
   ]
  },
  {
   "cell_type": "code",
   "execution_count": 5,
   "id": "c10ac172-2e64-4cb8-845f-7621e198ef87",
   "metadata": {},
   "outputs": [
    {
     "name": "stdout",
     "output_type": "stream",
     "text": [
      "root\n",
      " |-- measurement_count: string (nullable = true)\n",
      " |-- serial_number: string (nullable = true)\n",
      " |-- version: string (nullable = true)\n",
      " |-- co2_ppm: float (nullable = true)\n",
      " |-- temperature_celsius: float (nullable = true)\n",
      " |-- relative_humidity_percent: float (nullable = true)\n",
      " |-- timestamp: string (nullable = true)\n",
      "\n",
      "+-----------------+--------------------+-------+-------+-------------------+-------------------------+----------+\n",
      "|measurement_count|       serial_number|version|co2_ppm|temperature_celsius|relative_humidity_percent| timestamp|\n",
      "+-----------------+--------------------+-------+-------+-------------------+-------------------------+----------+\n",
      "|              200|s_d8bfc014724e_26...|  0.9.8|  420.0|               23.0|                     36.0|1617271728|\n",
      "|              458|s_10521c0202ab_28...|  0.9.8|  421.0|               24.0|                     32.0|1617271736|\n",
      "|              459|s_10521c0202ab_28...|  0.9.8|  420.0|               24.0|                     32.0|1617271739|\n",
      "|              113|s_e8db84c5f771_30...|  0.9.8|  651.0|               20.0|                     44.0|1617271761|\n",
      "|              202|s_d8bfc014724e_26...|  0.9.8|  422.0|               23.0|                     36.0|1617271769|\n",
      "|              203|s_d8bfc014724e_26...|  0.9.8|  422.0|               23.0|                     36.0|1617271772|\n",
      "|              204|s_d8bfc014724e_26...|  0.9.8|  423.0|               23.0|                     36.0|1617271779|\n",
      "|             9751|s_8caab57c3e19_28...|  0.9.8|  436.0|               22.0|                     41.0|1617271787|\n",
      "|              115|s_e8db84c5f771_30...|  0.9.8|  653.0|               20.0|                     44.0|1617271801|\n",
      "|              116|s_e8db84c5f771_30...|  0.9.8|  653.0|               20.0|                     44.0|1617271806|\n",
      "|              117|s_e8db84c5f771_30...|  0.9.8|  652.0|               20.0|                     44.0|1617271813|\n",
      "|             9753|s_8caab57c3e19_28...|  0.9.8|  433.0|               22.0|                     41.0|1617271831|\n",
      "|                9|s_e8db84c5f33d_28...|  0.9.8|  771.0|               20.0|                     49.0|1617271840|\n",
      "|               10|s_e8db84c5f33d_28...|  0.9.8|  772.0|               20.0|                     49.0|1617271843|\n",
      "|               11|s_e8db84c5f33d_28...|  0.9.8|  772.0|               20.0|                     49.0|1617271848|\n",
      "|              207|s_d8bfc014724e_26...|  0.9.8|  425.0|               23.0|                     36.0|1617271859|\n",
      "|             9755|s_8caab57c3e19_28...|  0.9.8|  431.0|               22.0|                     41.0|1617271873|\n",
      "|             9756|s_8caab57c3e19_28...|  0.9.8|  431.0|               22.0|                     41.0|1617271876|\n",
      "|             9757|s_8caab57c3e19_28...|  0.9.8|  431.0|               22.0|                     41.0|1617271883|\n",
      "|             9758|s_8caab57c3e19_28...|  0.9.8|  430.0|               22.0|                     41.0|1617271886|\n",
      "+-----------------+--------------------+-------+-------+-------------------+-------------------------+----------+\n",
      "only showing top 20 rows\n",
      "\n"
     ]
    }
   ],
   "source": [
    "# \"temperature_celsius\", \"co2_ppm\", \"relative_humidity_percent\" in Float mit 2 Nachkommastellen formatiert\n",
    "from pyspark.sql.types import FloatType\n",
    "from pyspark.sql.functions import col, round\n",
    "df2 = df.withColumn(\"temperature_celsius\",round(df.temperature_celsius.cast(FloatType()),2))\n",
    "df3 = df2.withColumn(\"co2_ppm\",round(df2.co2_ppm.cast(FloatType()),2))\n",
    "df4 = df3.withColumn(\"relative_humidity_percent\",round(df3.relative_humidity_percent.cast(FloatType()),2))\n",
    "df4.printSchema()\n",
    "df4.show()"
   ]
  },
  {
   "cell_type": "code",
   "execution_count": 6,
   "id": "d5a0e779-0523-41cf-9e50-58973102c38a",
   "metadata": {},
   "outputs": [
    {
     "name": "stdout",
     "output_type": "stream",
     "text": [
      "root\n",
      " |-- measurement_count: string (nullable = true)\n",
      " |-- serial_number: string (nullable = true)\n",
      " |-- version: string (nullable = true)\n",
      " |-- co2_ppm: float (nullable = true)\n",
      " |-- temperature_celsius: float (nullable = true)\n",
      " |-- relative_humidity_percent: float (nullable = true)\n",
      " |-- timestamp: timestamp (nullable = true)\n",
      "\n"
     ]
    }
   ],
   "source": [
    "#timestamp in timestamp formatiert\n",
    "from pyspark.sql.functions import *\n",
    "df5 = df4.withColumn(\"timestamp\",to_timestamp(from_unixtime(col(\"timestamp\"))))\n",
    "df5.printSchema()"
   ]
  },
  {
   "cell_type": "code",
   "execution_count": 7,
   "id": "4afa44d5-41ef-4877-be2a-2dc64a820715",
   "metadata": {},
   "outputs": [
    {
     "name": "stderr",
     "output_type": "stream",
     "text": [
      "                                                                                \r"
     ]
    },
    {
     "data": {
      "text/plain": [
       "['\"measurement_count\"\\t\"serial_number\"\\t\"version\"\\t\"co2_ppm\"\\t\"temperature_celsius\"\\t\"relative_humidity_percent\"\\t\"timestamp\"',\n",
       " '\"200\"\\t\"s_d8bfc014724e_262793\"\\t\"0.9.8\"\\t\"420\"\\t\"23.0\"\\t\"36.0\"\\t\"1617271728\"',\n",
       " '\"458\"\\t\"s_10521c0202ab_284839\"\\t\"0.9.8\"\\t\"421\"\\t\"24.0\"\\t\"32.0\"\\t\"1617271736\"',\n",
       " '\"459\"\\t\"s_10521c0202ab_284839\"\\t\"0.9.8\"\\t\"420\"\\t\"24.0\"\\t\"32.0\"\\t\"1617271739\"',\n",
       " '\"113\"\\t\"s_e8db84c5f771_300390\"\\t\"0.9.8\"\\t\"651\"\\t\"20.0\"\\t\"44.0\"\\t\"1617271761\"']"
      ]
     },
     "execution_count": 7,
     "metadata": {},
     "output_type": "execute_result"
    }
   ],
   "source": [
    "#Daten in RDD laden mit textFile(Pfad)\n",
    "rddFromTSV = sc1.textFile(\"hdfs://namenode:19000/data.tsv\")\n",
    "rddFromTSV.take(5)"
   ]
  },
  {
   "cell_type": "code",
   "execution_count": 8,
   "id": "127e7674-fefb-449f-a7ba-389ff3b7f286",
   "metadata": {},
   "outputs": [
    {
     "name": "stderr",
     "output_type": "stream",
     "text": [
      "                                                                                \r"
     ]
    },
    {
     "data": {
      "text/plain": [
       "[['\"200\"',\n",
       "  '\"s_d8bfc014724e_262793\"',\n",
       "  '\"0.9.8\"',\n",
       "  '\"420\"',\n",
       "  '\"23.0\"',\n",
       "  '\"36.0\"',\n",
       "  '\"1617271728\"'],\n",
       " ['\"458\"',\n",
       "  '\"s_10521c0202ab_284839\"',\n",
       "  '\"0.9.8\"',\n",
       "  '\"421\"',\n",
       "  '\"24.0\"',\n",
       "  '\"32.0\"',\n",
       "  '\"1617271736\"'],\n",
       " ['\"459\"',\n",
       "  '\"s_10521c0202ab_284839\"',\n",
       "  '\"0.9.8\"',\n",
       "  '\"420\"',\n",
       "  '\"24.0\"',\n",
       "  '\"32.0\"',\n",
       "  '\"1617271739\"'],\n",
       " ['\"113\"',\n",
       "  '\"s_e8db84c5f771_300390\"',\n",
       "  '\"0.9.8\"',\n",
       "  '\"651\"',\n",
       "  '\"20.0\"',\n",
       "  '\"44.0\"',\n",
       "  '\"1617271761\"'],\n",
       " ['\"202\"',\n",
       "  '\"s_d8bfc014724e_262793\"',\n",
       "  '\"0.9.8\"',\n",
       "  '\"422\"',\n",
       "  '\"23.0\"',\n",
       "  '\"36.0\"',\n",
       "  '\"1617271769\"']]"
      ]
     },
     "execution_count": 8,
     "metadata": {},
     "output_type": "execute_result"
    }
   ],
   "source": [
    "#Columns splitten und Header entfernen\n",
    "rdd = rddFromTSV.map(lambda line: line.split(\"\\t\"))\n",
    "\n",
    "headers = rdd.first()\n",
    "rdd = rdd.filter(lambda line: line != headers)\n",
    "\n",
    "rdd.take(5)"
   ]
  },
  {
   "cell_type": "code",
   "execution_count": 9,
   "id": "1286bda6-a25c-45fb-82ac-db1babd60a9d",
   "metadata": {},
   "outputs": [
    {
     "name": "stderr",
     "output_type": "stream",
     "text": [
      "[Stage 5:===================================================>       (7 + 1) / 8]\r"
     ]
    },
    {
     "name": "stdout",
     "output_type": "stream",
     "text": [
      "Sensoren : 22\n"
     ]
    },
    {
     "name": "stderr",
     "output_type": "stream",
     "text": [
      "                                                                                \r"
     ]
    }
   ],
   "source": [
    "#Wie viele Sensoren enthält Datenmenge?\n",
    "rdd_distinct_serial = rdd.map(lambda x: x[1])\n",
    "print(\"Sensoren : \"+ str(rdd_distinct_serial.distinct().count()))"
   ]
  },
  {
   "cell_type": "code",
   "execution_count": 10,
   "id": "5036d566-0a1e-4928-b82c-28905d43fc46",
   "metadata": {},
   "outputs": [
    {
     "name": "stderr",
     "output_type": "stream",
     "text": [
      "                                                                                \r"
     ]
    },
    {
     "data": {
      "text/plain": [
       "[('\"s_e8db84c5f33d_281913\"', 2269085),\n",
       " ('\"s_10521c01cf19_262520\"', 385103),\n",
       " ('\"s_e8db84c5f33d_0xdeadbeef\"', 1515),\n",
       " ('\"s_8caab57cc961_284337\"', 1131861),\n",
       " ('\"s_8caab57cc961_\"', 7),\n",
       " ('\"s_8caab57c3e19_\"', 1),\n",
       " ('\"s_8caab57a6dd9_\"', 6),\n",
       " ('\"s_3c6105d3abae_\"', 2),\n",
       " ('\"s_8caab57a6dd9_288065\"', 2781611),\n",
       " ('\"s_e8db84c5f33d\"', 83),\n",
       " ('\"s_3c6105d3abae_299589\"', 1533917),\n",
       " ('\"s_8caab57c3e19_282028\"', 1561045),\n",
       " ('\"s_d8bfc014724e_262793\"', 2103522),\n",
       " ('\"s_8caab57a6dd9\"', 11),\n",
       " ('\"s_e8db84c5f33d_\"', 13),\n",
       " ('\"s_e8db84c5f771_\"', 2),\n",
       " ('\"s_10521c0202ab_284839\"', 2064),\n",
       " ('\"s_8caab57a6dd9_0xdeadbeef\"', 49),\n",
       " ('\"s_e8db84c5f771_300390\"', 1665528),\n",
       " ('\"s_10521c01cf19_\"', 2),\n",
       " ('\"s_d8bfc0147061_283903\"', 578456),\n",
       " ('\"s_d8bfc0147061_\"', 1)]"
      ]
     },
     "execution_count": 10,
     "metadata": {},
     "output_type": "execute_result"
    }
   ],
   "source": [
    "#wieviele Datenpunkte je Sensor liegen vor?\n",
    "rdd_anzahl_serial_number = rdd.map(lambda x : (x[1],1))\n",
    "rdd_anzahl_serial_number.reduceByKey( lambda a,b : a + b ).collect()"
   ]
  },
  {
   "cell_type": "code",
   "execution_count": 11,
   "id": "ff8b98b9-d5c8-4b1a-bbc8-b59e0bc2bff6",
   "metadata": {},
   "outputs": [
    {
     "name": "stderr",
     "output_type": "stream",
     "text": [
      "[Stage 9:===================================================>       (7 + 1) / 8]\r"
     ]
    },
    {
     "name": "stdout",
     "output_type": "stream",
     "text": [
      "Max Temperature: 36.0\n"
     ]
    },
    {
     "name": "stderr",
     "output_type": "stream",
     "text": [
      "                                                                                \r"
     ]
    }
   ],
   "source": [
    "#was ist der höchste , und was der niedrigste Temperaturwert?\n",
    "\n",
    "#rdd_max_temp = rdd.filter(lambda y: str(y) != \"null\")\n",
    "rdd_max_temp = rdd.map(lambda x: x[4].strip(' \"').strip('null'))\n",
    "rdd_max_temp = rdd_max_temp.filter(lambda x: x != '')\n",
    "rdd_max_temp = rdd_max_temp.map(lambda x: float(x))\n",
    "print(\"Max Temperature: \" + str(rdd_max_temp.max()))"
   ]
  },
  {
   "cell_type": "code",
   "execution_count": 12,
   "id": "1e772cca-ba44-44c2-9013-f46523ec906c",
   "metadata": {},
   "outputs": [
    {
     "name": "stderr",
     "output_type": "stream",
     "text": [
      "[Stage 10:==================================================>       (7 + 1) / 8]\r"
     ]
    },
    {
     "name": "stdout",
     "output_type": "stream",
     "text": [
      "Min Temperature: -1.0\n"
     ]
    },
    {
     "name": "stderr",
     "output_type": "stream",
     "text": [
      "                                                                                \r"
     ]
    }
   ],
   "source": [
    "rdd_min_temp = rdd.map(lambda x: x[4].strip(' \"').strip('null'))\n",
    "rdd_min_temp = rdd_min_temp.filter(lambda x: x != '')\n",
    "rdd_min_temp = rdd_min_temp.map(lambda x: float(x))\n",
    "print(\"Min Temperature: \" + str(rdd_min_temp.min()))"
   ]
  },
  {
   "cell_type": "code",
   "execution_count": 13,
   "id": "1bad4335-82a5-49d6-ad7a-fdbac8710261",
   "metadata": {},
   "outputs": [
    {
     "name": "stderr",
     "output_type": "stream",
     "text": [
      "                                                                                \r"
     ]
    },
    {
     "data": {
      "text/plain": [
       "[('\"s_e8db84c5f33d_281913\"', 531.2104615783285),\n",
       " ('\"s_10521c01cf19_262520\"', 500.67781606479303),\n",
       " ('\"s_e8db84c5f33d_0xdeadbeef\"', -1.0),\n",
       " ('\"s_8caab57cc961_284337\"', 470.7930161035675),\n",
       " ('\"s_8caab57cc961_\"', 429.2857142857143),\n",
       " ('\"s_3c6105d3abae_\"', 832.0),\n",
       " ('\"s_8caab57a6dd9_\"', 983.6666666666666),\n",
       " ('\"s_8caab57c3e19_\"', 620.0),\n",
       " ('\"s_8caab57a6dd9_288065\"', 654.238815923578),\n",
       " ('\"s_e8db84c5f33d\"', 1403.2289156626507),\n",
       " ('\"s_3c6105d3abae_299589\"', 833.9766714887442),\n",
       " ('\"s_d8bfc014724e_262793\"', 770.4554948583827),\n",
       " ('\"s_8caab57c3e19_282028\"', 876.9315842912921),\n",
       " ('\"s_e8db84c5f33d_\"', 488.7692307692308),\n",
       " ('\"s_10521c0202ab_284839\"', 436.76356589147287),\n",
       " ('\"s_e8db84c5f771_\"', 863.0),\n",
       " ('\"s_8caab57a6dd9_0xdeadbeef\"', -1.0),\n",
       " ('\"s_e8db84c5f771_300390\"', 954.0877634759553),\n",
       " ('\"s_10521c01cf19_\"', 467.5),\n",
       " ('\"s_d8bfc0147061_283903\"', 628.6339168406931),\n",
       " ('\"s_d8bfc0147061_\"', 722.0)]"
      ]
     },
     "execution_count": 13,
     "metadata": {},
     "output_type": "execute_result"
    }
   ],
   "source": [
    "#Was ist der durchschnittliche Co2-Wert (co2_ppm) je Sensor?\n",
    "rdd_avg_co2ppm = rdd.map(lambda x: (x[1],x[3].strip('\"').strip('null')))\n",
    "rdd_avg_co2ppm = rdd_avg_co2ppm.filter(lambda x: x[1] != '')\n",
    "rdd_avg_co2ppm = rdd_avg_co2ppm.map(lambda x: (x[0],float(x[1])))\n",
    "rdd_avg_co2ppm = rdd_avg_co2ppm.combineByKey(\n",
    "    (lambda v: (v,1)),\n",
    "    (lambda C,v: (C[0]+v,C[1]+1)),\n",
    "    (lambda C1,C2: (C1[0]+C2[0],C1[1]+C2[1]))\n",
    ")\n",
    "mean_co2ppm = rdd_avg_co2ppm.mapValues(lambda C: C[0]/C[1])\n",
    "mean_co2ppm.collect()"
   ]
  },
  {
   "cell_type": "code",
   "execution_count": 14,
   "id": "6a10c869-257e-414c-99a9-8c63742e7dff",
   "metadata": {},
   "outputs": [
    {
     "name": "stderr",
     "output_type": "stream",
     "text": [
      "[Stage 13:==================================================>       (7 + 1) / 8]\r"
     ]
    },
    {
     "name": "stdout",
     "output_type": "stream",
     "text": [
      "Missing co2ppm values: 19\n"
     ]
    },
    {
     "name": "stderr",
     "output_type": "stream",
     "text": [
      "                                                                                \r"
     ]
    }
   ],
   "source": [
    "#Wieviele Datenpunkte mit fehlenden Co2-Werte liegen vor?\n",
    "rdd_avg_co2ppm = rdd.map(lambda x: x[3].strip(' \"').strip('null'))\n",
    "rdd_avg_co2ppm = rdd_avg_co2ppm.filter(lambda x: x == '')\n",
    "print(\"Missing co2ppm values: \" + str(rdd_avg_co2ppm.count()))"
   ]
  },
  {
   "cell_type": "markdown",
   "id": "26b25140-b633-414b-ac1c-b4093cea1aa0",
   "metadata": {},
   "source": [
    "<b>Stop context</b> "
   ]
  },
  {
   "cell_type": "code",
   "execution_count": 15,
   "id": "0f01d4e5-324f-4c05-b7fc-4d381bd5f775",
   "metadata": {},
   "outputs": [
    {
     "name": "stdout",
     "output_type": "stream",
     "text": [
      "Spark Context stopped\n"
     ]
    }
   ],
   "source": [
    "stopCtx()"
   ]
  }
 ],
 "metadata": {
  "kernelspec": {
   "display_name": "Python 3 (ipykernel)",
   "language": "python",
   "name": "python3"
  },
  "language_info": {
   "codemirror_mode": {
    "name": "ipython",
    "version": 3
   },
   "file_extension": ".py",
   "mimetype": "text/x-python",
   "name": "python",
   "nbconvert_exporter": "python",
   "pygments_lexer": "ipython3",
   "version": "3.9.7"
  }
 },
 "nbformat": 4,
 "nbformat_minor": 5
}
